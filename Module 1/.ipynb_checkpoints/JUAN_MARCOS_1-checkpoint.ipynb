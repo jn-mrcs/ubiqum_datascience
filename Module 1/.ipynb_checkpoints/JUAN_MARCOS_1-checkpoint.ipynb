{
 "cells": [
  {
   "cell_type": "markdown",
   "id": "42d7bbf2",
   "metadata": {},
   "source": [
    "## Introduction"
   ]
  },
  {
   "cell_type": "markdown",
   "id": "3edb0d59",
   "metadata": {},
   "source": [
    "The following analysis has the purpose of studying the characteristics of the customers of Blackwell Electronics. For this purpose various techniques of data analysis will be used, cenetered around an Exploratory Data Analysis of the data set, showing graphics and statistical measurements to explain certain behaviours. The main questions that will be studied in the analysis are the following:<br>\n",
    "<ul>\n",
    "<li>Do customers in different regions spend more per transaction?</li>\n",
    "<li>Which regions spend the most/least?</li>\n",
    "<li>Is there a relationship between number of items purchased and amount spent?</li>\n",
    "</ul>\n",
    "Additionally further insights about the data will be studied and explained to provide a wider understanding about the customers."
   ]
  },
  {
   "cell_type": "markdown",
   "id": "0d71878e",
   "metadata": {},
   "source": [
    "## Import libraries"
   ]
  },
  {
   "cell_type": "code",
   "execution_count": 1,
   "id": "8791a4da",
   "metadata": {},
   "outputs": [],
   "source": [
    "import pandas as pd\n",
    "import numpy as np\n",
    "import matplotlib as mpl\n",
    "import matplotlib.pyplot as plt\n",
    "import seaborn as sns\n",
    "import scipy"
   ]
  },
  {
   "cell_type": "markdown",
   "id": "bcd6d5e4",
   "metadata": {},
   "source": [
    "## Reading Data Set with Pandas"
   ]
  },
  {
   "cell_type": "code",
   "execution_count": 2,
   "id": "64af8215",
   "metadata": {},
   "outputs": [
    {
     "data": {
      "text/html": [
       "<div>\n",
       "<style scoped>\n",
       "    .dataframe tbody tr th:only-of-type {\n",
       "        vertical-align: middle;\n",
       "    }\n",
       "\n",
       "    .dataframe tbody tr th {\n",
       "        vertical-align: top;\n",
       "    }\n",
       "\n",
       "    .dataframe thead th {\n",
       "        text-align: right;\n",
       "    }\n",
       "</style>\n",
       "<table border=\"1\" class=\"dataframe\">\n",
       "  <thead>\n",
       "    <tr style=\"text-align: right;\">\n",
       "      <th></th>\n",
       "      <th>in-store</th>\n",
       "      <th>age</th>\n",
       "      <th>items</th>\n",
       "      <th>amount</th>\n",
       "      <th>region</th>\n",
       "    </tr>\n",
       "  </thead>\n",
       "  <tbody>\n",
       "    <tr>\n",
       "      <th>0</th>\n",
       "      <td>0</td>\n",
       "      <td>37</td>\n",
       "      <td>4</td>\n",
       "      <td>281.03</td>\n",
       "      <td>2</td>\n",
       "    </tr>\n",
       "    <tr>\n",
       "      <th>1</th>\n",
       "      <td>0</td>\n",
       "      <td>35</td>\n",
       "      <td>2</td>\n",
       "      <td>219.51</td>\n",
       "      <td>2</td>\n",
       "    </tr>\n",
       "    <tr>\n",
       "      <th>2</th>\n",
       "      <td>1</td>\n",
       "      <td>45</td>\n",
       "      <td>3</td>\n",
       "      <td>1525.70</td>\n",
       "      <td>4</td>\n",
       "    </tr>\n",
       "    <tr>\n",
       "      <th>3</th>\n",
       "      <td>1</td>\n",
       "      <td>46</td>\n",
       "      <td>3</td>\n",
       "      <td>715.25</td>\n",
       "      <td>3</td>\n",
       "    </tr>\n",
       "    <tr>\n",
       "      <th>4</th>\n",
       "      <td>1</td>\n",
       "      <td>33</td>\n",
       "      <td>4</td>\n",
       "      <td>1937.50</td>\n",
       "      <td>1</td>\n",
       "    </tr>\n",
       "  </tbody>\n",
       "</table>\n",
       "</div>"
      ],
      "text/plain": [
       "   in-store  age  items   amount  region\n",
       "0         0   37      4   281.03       2\n",
       "1         0   35      2   219.51       2\n",
       "2         1   45      3  1525.70       4\n",
       "3         1   46      3   715.25       3\n",
       "4         1   33      4  1937.50       1"
      ]
     },
     "execution_count": 2,
     "metadata": {},
     "output_type": "execute_result"
    }
   ],
   "source": [
    "data = pd.read_csv('Demographic_Data.csv')\n",
    "data.head()\n",
    "#Importing data and doing an initial visualization"
   ]
  },
  {
   "cell_type": "markdown",
   "id": "97323123",
   "metadata": {},
   "source": [
    "## Analysis\n"
   ]
  },
  {
   "cell_type": "markdown",
   "id": "a9bc7de3",
   "metadata": {},
   "source": [
    "## Pre-Processing"
   ]
  },
  {
   "cell_type": "code",
   "execution_count": 3,
   "id": "f72fd1bc",
   "metadata": {
    "scrolled": true
   },
   "outputs": [
    {
     "data": {
      "text/html": [
       "<div>\n",
       "<style scoped>\n",
       "    .dataframe tbody tr th:only-of-type {\n",
       "        vertical-align: middle;\n",
       "    }\n",
       "\n",
       "    .dataframe tbody tr th {\n",
       "        vertical-align: top;\n",
       "    }\n",
       "\n",
       "    .dataframe thead th {\n",
       "        text-align: right;\n",
       "    }\n",
       "</style>\n",
       "<table border=\"1\" class=\"dataframe\">\n",
       "  <thead>\n",
       "    <tr style=\"text-align: right;\">\n",
       "      <th></th>\n",
       "      <th>in-store</th>\n",
       "      <th>age</th>\n",
       "      <th>items</th>\n",
       "      <th>amount</th>\n",
       "      <th>region</th>\n",
       "    </tr>\n",
       "  </thead>\n",
       "  <tbody>\n",
       "    <tr>\n",
       "      <th>count</th>\n",
       "      <td>80000.000000</td>\n",
       "      <td>80000.000000</td>\n",
       "      <td>80000.000000</td>\n",
       "      <td>80000.000000</td>\n",
       "      <td>80000.000000</td>\n",
       "    </tr>\n",
       "    <tr>\n",
       "      <th>mean</th>\n",
       "      <td>0.500000</td>\n",
       "      <td>45.757925</td>\n",
       "      <td>4.504975</td>\n",
       "      <td>835.919670</td>\n",
       "      <td>2.675000</td>\n",
       "    </tr>\n",
       "    <tr>\n",
       "      <th>std</th>\n",
       "      <td>0.500003</td>\n",
       "      <td>15.715679</td>\n",
       "      <td>2.061238</td>\n",
       "      <td>721.273736</td>\n",
       "      <td>1.126672</td>\n",
       "    </tr>\n",
       "    <tr>\n",
       "      <th>min</th>\n",
       "      <td>0.000000</td>\n",
       "      <td>18.000000</td>\n",
       "      <td>1.000000</td>\n",
       "      <td>5.004700</td>\n",
       "      <td>1.000000</td>\n",
       "    </tr>\n",
       "    <tr>\n",
       "      <th>25%</th>\n",
       "      <td>0.000000</td>\n",
       "      <td>33.000000</td>\n",
       "      <td>3.000000</td>\n",
       "      <td>285.140000</td>\n",
       "      <td>2.000000</td>\n",
       "    </tr>\n",
       "    <tr>\n",
       "      <th>50%</th>\n",
       "      <td>0.500000</td>\n",
       "      <td>45.000000</td>\n",
       "      <td>4.000000</td>\n",
       "      <td>582.315000</td>\n",
       "      <td>3.000000</td>\n",
       "    </tr>\n",
       "    <tr>\n",
       "      <th>75%</th>\n",
       "      <td>1.000000</td>\n",
       "      <td>56.000000</td>\n",
       "      <td>6.000000</td>\n",
       "      <td>1233.700000</td>\n",
       "      <td>4.000000</td>\n",
       "    </tr>\n",
       "    <tr>\n",
       "      <th>max</th>\n",
       "      <td>1.000000</td>\n",
       "      <td>85.000000</td>\n",
       "      <td>8.000000</td>\n",
       "      <td>3000.000000</td>\n",
       "      <td>4.000000</td>\n",
       "    </tr>\n",
       "  </tbody>\n",
       "</table>\n",
       "</div>"
      ],
      "text/plain": [
       "           in-store           age         items        amount        region\n",
       "count  80000.000000  80000.000000  80000.000000  80000.000000  80000.000000\n",
       "mean       0.500000     45.757925      4.504975    835.919670      2.675000\n",
       "std        0.500003     15.715679      2.061238    721.273736      1.126672\n",
       "min        0.000000     18.000000      1.000000      5.004700      1.000000\n",
       "25%        0.000000     33.000000      3.000000    285.140000      2.000000\n",
       "50%        0.500000     45.000000      4.000000    582.315000      3.000000\n",
       "75%        1.000000     56.000000      6.000000   1233.700000      4.000000\n",
       "max        1.000000     85.000000      8.000000   3000.000000      4.000000"
      ]
     },
     "execution_count": 3,
     "metadata": {},
     "output_type": "execute_result"
    }
   ],
   "source": [
    "data.describe()"
   ]
  },
  {
   "cell_type": "markdown",
   "id": "d27d5178",
   "metadata": {},
   "source": [
    "Initially some sense of the data is obtained."
   ]
  },
  {
   "cell_type": "code",
   "execution_count": 4,
   "id": "938897ff",
   "metadata": {},
   "outputs": [
    {
     "name": "stdout",
     "output_type": "stream",
     "text": [
      "<class 'pandas.core.frame.DataFrame'>\n",
      "RangeIndex: 80000 entries, 0 to 79999\n",
      "Data columns (total 5 columns):\n",
      " #   Column    Non-Null Count  Dtype  \n",
      "---  ------    --------------  -----  \n",
      " 0   in-store  80000 non-null  int64  \n",
      " 1   age       80000 non-null  int64  \n",
      " 2   items     80000 non-null  int64  \n",
      " 3   amount    80000 non-null  float64\n",
      " 4   region    80000 non-null  int64  \n",
      "dtypes: float64(1), int64(4)\n",
      "memory usage: 3.1 MB\n"
     ]
    }
   ],
   "source": [
    "#basic info about the data set\n",
    "data.info()"
   ]
  },
  {
   "cell_type": "markdown",
   "id": "ec37b9a5",
   "metadata": {},
   "source": [
    "The data types of all the data is obtained. Note that although 'in-store' and 'region' are numeric times, they are actually cathegorical variables."
   ]
  },
  {
   "cell_type": "code",
   "execution_count": 5,
   "id": "4d9f7aac",
   "metadata": {},
   "outputs": [
    {
     "name": "stdout",
     "output_type": "stream",
     "text": [
      "Duplicate values:\t 21\n"
     ]
    }
   ],
   "source": [
    "#Duplicated values\n",
    "print(\"Duplicate values:\\t\",data.duplicated().sum())"
   ]
  },
  {
   "cell_type": "markdown",
   "id": "122b1d80",
   "metadata": {},
   "source": [
    "The data is checked for duplicates. Since the number of duplicated data is small relative to the sample size, and given there is no way to check if the data is truly duplicated or simply different orders with the same characteristics, this records will be kept."
   ]
  },
  {
   "cell_type": "code",
   "execution_count": 6,
   "id": "0014b580",
   "metadata": {},
   "outputs": [
    {
     "name": "stdout",
     "output_type": "stream",
     "text": [
      "Null values:\n",
      " in-store    0\n",
      "age         0\n",
      "items       0\n",
      "amount      0\n",
      "region      0\n",
      "dtype: int64\n"
     ]
    }
   ],
   "source": [
    "#Null values\n",
    "print(\"Null values:\\n\",data.isnull().sum())"
   ]
  },
  {
   "cell_type": "markdown",
   "id": "e32b38b0",
   "metadata": {},
   "source": [
    "The data contains is searched for null values but there are none."
   ]
  },
  {
   "cell_type": "code",
   "execution_count": 7,
   "id": "c027d22f",
   "metadata": {},
   "outputs": [
    {
     "name": "stdout",
     "output_type": "stream",
     "text": [
      "Invalid 'in-store' values:\t 0\n",
      "Invalid 'age' values:\t\t 0\n",
      "Invalid 'items' values:\t\t 0\n",
      "Invalid 'amount' values:\t 0\n",
      "Invalid 'region' values:\t 0\n"
     ]
    }
   ],
   "source": [
    "#Invalid values\n",
    "print(\"Invalid 'in-store' values:\\t\",((data['in-store'] != 0) & (data['in-store'] != 1)).sum())\n",
    "print(\"Invalid 'age' values:\\t\\t\",((data['age'] <= 0) | (data['age'] > 200)).sum())\n",
    "print(\"Invalid 'items' values:\\t\\t\",((data['items'] <= 0)).sum())\n",
    "print(\"Invalid 'amount' values:\\t\",((data['amount'] <= 0)).sum())\n",
    "print(\"Invalid 'region' values:\\t\",((data['region'] != 1) & (data['region'] != 2) & (data['region'] != 3) & (data['region'] != 4)).sum())"
   ]
  },
  {
   "cell_type": "markdown",
   "id": "cdcd763c",
   "metadata": {},
   "source": [
    "The data is checked for invalid values (negative or null ages, prices or quantities and invalid values of cathegorical variables), but it does not contain any."
   ]
  },
  {
   "cell_type": "code",
   "execution_count": 8,
   "id": "786e0cab",
   "metadata": {},
   "outputs": [
    {
     "name": "stdout",
     "output_type": "stream",
     "text": [
      "Outliers in 'age':\t 0.0\n",
      "Outliers in 'items':\t 0.0\n",
      "Outliers in 'amount':\t 2318\n"
     ]
    }
   ],
   "source": [
    "#Outliers\n",
    "## 'age' outliers\n",
    "iq_age = data.quantile(.75)['age'] - data.quantile(.25)['age']\n",
    "age_out = data.loc[(((data['age'] < data.quantile(.25)['age'] - iq_age*1.5) | (data['age'] > data.quantile(.75)['age'] + iq_age*1.5)) == True)]\n",
    "print(\"Outliers in 'age':\\t\",age_out.size/5)\n",
    "## 'items' outliers\n",
    "iq_items = data.quantile(.75)['items'] - data.quantile(.25)['items']\n",
    "items_out = data.loc[(((data['items'] < data.quantile(.25)['items'] - iq_items*1.5) | (data['items'] > data.quantile(.75)['items'] + iq_items*1.5)) == True)]\n",
    "print(\"Outliers in 'items':\\t\",items_out.size/5)\n",
    "## 'amount' outliers\n",
    "iq_amount = data.quantile(.75)['amount'] - data.quantile(.25)['amount']\n",
    "amount_out = data.loc[(((data['amount'] < data.quantile(.25)['amount'] - iq_amount*1.5) | (data['amount'] > data.quantile(.75)['amount'] + iq_amount*1.5)) == True)]\n",
    "print(\"Outliers in 'amount':\\t\",amount_out['amount'].count())"
   ]
  },
  {
   "cell_type": "markdown",
   "id": "6a6e7097",
   "metadata": {},
   "source": [
    "The only quantity that presents outliers is the amount payed in the order. Still given that in an electronic store the prices can range from thousands of dollars (a computer) to very small prices (a mouse pad), directly excluding them would leave an important part of the data out of the analysis. Still they will be kept stored in case that some future analysis could benefit from excluding these values."
   ]
  },
  {
   "cell_type": "code",
   "execution_count": 9,
   "id": "369237e6",
   "metadata": {},
   "outputs": [
    {
     "name": "stdout",
     "output_type": "stream",
     "text": [
      "Values of 'amount' with more than two decimals:\t 9012\n"
     ]
    }
   ],
   "source": [
    "#Number of decimals in amount\n",
    "print(\"Values of 'amount' with more than two decimals:\\t\",data.loc[((data.amount*100).apply(np.floor))/100 != data.amount]['amount'].size)"
   ]
  },
  {
   "cell_type": "markdown",
   "id": "9afa4ae6",
   "metadata": {},
   "source": [
    "Normally currency values only contain two decimal ciphers. The cause of this abnormal values is most likely related with the VAT and the way the values are stored, probably before applying the tax. Since this additional impact represent an infimum difference compared with the magnitude of the values, they will not be rounded off, as their impact in the analysis will be negligible."
   ]
  },
  {
   "cell_type": "markdown",
   "id": "4d15e778",
   "metadata": {},
   "source": [
    "## Exploratory Data Analysis"
   ]
  },
  {
   "cell_type": "markdown",
   "id": "5785399e",
   "metadata": {},
   "source": [
    "### Regional analysis"
   ]
  },
  {
   "cell_type": "markdown",
   "id": "1d832f9a",
   "metadata": {},
   "source": [
    "The main purpose of this section is finding the answer of the following questions:<br>\n",
    "<ul>\n",
    "<li>Do customers in different regions spend more per transaction?</li>\n",
    "<li>Which regions spend the most/least?</li>\n",
    "</ul>\n",
    "To address the first question, the distribution of the amount spent in each transaction will be analyzed for each region."
   ]
  },
  {
   "cell_type": "code",
   "execution_count": 10,
   "id": "d826302c",
   "metadata": {},
   "outputs": [
    {
     "data": {
      "text/plain": [
       "region\n",
       "1    16000\n",
       "2    20000\n",
       "3    18000\n",
       "4    26000\n",
       "dtype: int64"
      ]
     },
     "execution_count": 10,
     "metadata": {},
     "output_type": "execute_result"
    }
   ],
   "source": [
    "#Check the amount of orders per region\n",
    "data.groupby('region').size()"
   ]
  },
  {
   "cell_type": "code",
   "execution_count": 11,
   "id": "1dbb4034",
   "metadata": {},
   "outputs": [
    {
     "data": {
      "text/plain": [
       "[]"
      ]
     },
     "execution_count": 11,
     "metadata": {},
     "output_type": "execute_result"
    },
    {
     "data": {
      "image/png": "[encoded data removed]",
      "text/plain": [
       "<Figure size 432x288 with 1 Axes>"
      ]
     },
     "metadata": {
      "needs_background": "light"
     },
     "output_type": "display_data"
    }
   ],
   "source": [
    "#Plot the number of orders per region\n",
    "plot = sns.countplot(x = \"region\",data=data)\n",
    "plot.set_xticklabels(['North','South','East','West'])\n",
    "plot.set_title('Histogram of transactions per region')\n",
    "plot.set_ylabel('# Transactions')\n",
    "plot.set_xlabel('Region')\n",
    "plot.plot()"
   ]
  },
  {
   "cell_type": "markdown",
   "id": "bc4e3597",
   "metadata": {},
   "source": [
    "<i>Figure 1. Histogram showing the amount of transactions in each region.</i>"
   ]
  },
  {
   "cell_type": "markdown",
   "id": "0797101d",
   "metadata": {},
   "source": [
    "It is noticeable that the West region has an higher amount of orders. Now the distribution of the amount spent is checked."
   ]
  },
  {
   "cell_type": "code",
   "execution_count": 12,
   "id": "6b388505",
   "metadata": {},
   "outputs": [
    {
     "data": {
      "text/plain": [
       "region\n",
       "1     745.161491\n",
       "2     252.109196\n",
       "3     917.969637\n",
       "4    1284.052012\n",
       "Name: amount, dtype: float64"
      ]
     },
     "execution_count": 12,
     "metadata": {},
     "output_type": "execute_result"
    }
   ],
   "source": [
    "#Get number of transactions in each region\n",
    "data.groupby('region').mean()['amount']"
   ]
  },
  {
   "cell_type": "markdown",
   "id": "4331f47b",
   "metadata": {},
   "source": [
    "The means of the regions show that indeed there are differences in the amount per transaction spent in each region. Notice for example that region 2 (South) has the lowest mean while the previous graphic showed it is the recond with the second highest number of transactions. However, a more in depth analysis of the amount distribution would be helpful to get more precise conclussions."
   ]
  },
  {
   "cell_type": "code",
   "execution_count": 13,
   "id": "1654cb72",
   "metadata": {},
   "outputs": [
    {
     "data": {
      "text/plain": [
       "[]"
      ]
     },
     "execution_count": 13,
     "metadata": {},
     "output_type": "execute_result"
    },
    {
     "data": {
      "image/png": "[encoded data removed]",
      "text/plain": [
       "<Figure size 432x288 with 1 Axes>"
      ]
     },
     "metadata": {
      "needs_background": "light"
     },
     "output_type": "display_data"
    }
   ],
   "source": [
    "#Plot a box plot of the amount spent in each region\n",
    "plot = sns.boxplot(x='region', y='amount', data = data)\n",
    "plot.set_xticklabels(['North','South','East','West'])\n",
    "plot.set_title('Box plot of amount spent per region')\n",
    "plot.set_ylabel('Amount spent per transaction')\n",
    "plot.set_xlabel('Region')\n",
    "plot.plot()"
   ]
  },
  {
   "cell_type": "markdown",
   "id": "5b7c4ebf",
   "metadata": {},
   "source": [
    "<i>Figure 2. Box plot showing the distribution of the amount spent in transactions at each region.</i>"
   ]
  },
  {
   "cell_type": "markdown",
   "id": "95557b49",
   "metadata": {},
   "source": [
    "This graphic shows that there is a high amount of outliers in the East region and some of them in the Northern one. Also, the data in the West region is very distributed, so further analysis is required to draw reliable conclusions about these regions. Still, in the case of the Southern region the data is very concentrated around small values, so for now it can be assumed that this region spends less per transaction that the rest of them."
   ]
  },
  {
   "cell_type": "code",
   "execution_count": 14,
   "id": "3f7c5ae8",
   "metadata": {},
   "outputs": [
    {
     "data": {
      "text/plain": [
       "Text(0, 0.5, '# Transactions')"
      ]
     },
     "execution_count": 14,
     "metadata": {},
     "output_type": "execute_result"
    },
    {
     "data": {
      "image/png": "[encoded data removed]",
      "text/plain": [
       "<Figure size 1440x432 with 4 Axes>"
      ]
     },
     "metadata": {
      "needs_background": "light"
     },
     "output_type": "display_data"
    }
   ],
   "source": [
    "#Plot histograms of amount spent per transaction in each region\n",
    "fig , axes = plt.subplots(1,4,figsize = (20,6), sharex=True)\n",
    "sns.histplot(x=\"amount\",data=data.groupby('region').get_group(1),ax=axes[0])\n",
    "axes[0].title.set_text(\"Histogram of amount spent in North region\")\n",
    "axes[0].set_xlabel('Amount spent')\n",
    "axes[0].set_ylabel('# Transactions')\n",
    "sns.histplot(x=\"amount\",data=data.groupby('region').get_group(2),ax=axes[1], color = 'y')\n",
    "axes[1].title.set_text(\"Histogram of amount spent in South region\")\n",
    "axes[1].set_xlabel('Amount spent')\n",
    "axes[1].set_ylabel('# Transactions')\n",
    "sns.histplot(x=\"amount\",data=data.groupby('region').get_group(3),ax=axes[2], color = 'g')\n",
    "axes[2].title.set_text(\"Histogram of amount spent in East region\")\n",
    "axes[2].set_xlabel('Amount spent')\n",
    "axes[2].set_ylabel('# Transactions')\n",
    "sns.histplot(x=\"amount\",data=data.groupby('region').get_group(4),ax=axes[3], color = 'r')\n",
    "axes[3].title.set_text(\"Histogram of amount spent in West region\")\n",
    "axes[3].set_xlabel('Amount spent')\n",
    "axes[3].set_ylabel('# Transactions')"
   ]
  },
  {
   "cell_type": "markdown",
   "id": "4e4d75b3",
   "metadata": {},
   "source": [
    "<i>Figures 3-6. Histograms showing the distribution of the amount spent in transactions in each region.</i>"
   ]
  },
  {
   "cell_type": "markdown",
   "id": "98fca343",
   "metadata": {},
   "source": [
    "As it can be seen in the graphs, the South region spents the least per order in general, and all of its transactions are of small cost. In contrast, the West region spents the same or more in almost all of the price ranges (with the exception of the cheapest section for which there are more transactions in other regions). The North and East regions show similar buying patterns for the lower and intermediate price ranges, although there are transactions of high prices in East while there are none in the North.\n"
   ]
  },
  {
   "cell_type": "markdown",
   "id": "f7398771",
   "metadata": {},
   "source": [
    "<b>Do customers in different regions spend more per transaction?</b><br>\n",
    "Yes, the South region spends the least per transaction while the West region spends the most. The North and East regions spend intermediately, with the East being ahead due to having high amount transactions. The main factor positioning the West as the main spender is the high number of intermediate priced transactions (1000-2000) in the region, whereas other regions have few or no transaction in that range. Improving transactions of that price range in other regions would cause a high impact in the total spending."
   ]
  },
  {
   "cell_type": "markdown",
   "id": "d04a2307",
   "metadata": {},
   "source": [
    "Answering the second question is more complex beacuse there are various answers to it. It has already been determined that in average, the West region spends the most and the South spends the least. However, analysing the total amount spent per region could be another way of answering the question and also gives important information."
   ]
  },
  {
   "cell_type": "code",
   "execution_count": 15,
   "id": "bbbb81c9",
   "metadata": {},
   "outputs": [
    {
     "data": {
      "image/png": "[encoded data removed]",
      "text/plain": [
       "<Figure size 432x288 with 1 Axes>"
      ]
     },
     "metadata": {
      "needs_background": "light"
     },
     "output_type": "display_data"
    }
   ],
   "source": [
    "#Plot total amount spent in each region\n",
    "plot = sns.barplot(x = 'region', y = 'amount',data = data.groupby('region').sum().reset_index())\n",
    "plot.set_xticklabels(['North','South','East','West'])\n",
    "plot.set_title(\"Total amount spent in each region\")\n",
    "plot.set_xlabel('Region')\n",
    "plot.set_ylabel('Total amount spent')\n",
    "plot.ticklabel_format(style='plain', axis='y')"
   ]
  },
  {
   "cell_type": "markdown",
   "id": "545c8856",
   "metadata": {},
   "source": [
    "<i>Figure 7. Total amount spent in each region</i>"
   ]
  },
  {
   "cell_type": "markdown",
   "id": "dd0ad475",
   "metadata": {},
   "source": [
    "<b>Which regions spend the most/least?</b><br>\n",
    "After analyzing the total amount spent in each region, the conclusions obtained are the same as with the amount per transaction: again, the West spent the most, followed by the East and the North which spend signifcantly less. The South region is again the one spending the least."
   ]
  },
  {
   "cell_type": "markdown",
   "id": "d2312b78",
   "metadata": {},
   "source": [
    "Apart of answering this questions, analyzing how the purchases are done in each region could yield relevant information:"
   ]
  },
  {
   "cell_type": "code",
   "execution_count": 16,
   "id": "9b56bcb5",
   "metadata": {},
   "outputs": [
    {
     "data": {
      "text/plain": [
       "[]"
      ]
     },
     "execution_count": 16,
     "metadata": {},
     "output_type": "execute_result"
    },
    {
     "data": {
      "image/png": "[encoded data removed]",
      "text/plain": [
       "<Figure size 432x288 with 1 Axes>"
      ]
     },
     "metadata": {
      "needs_background": "light"
     },
     "output_type": "display_data"
    }
   ],
   "source": [
    "#Plot number of transactions online and in-store at each region\n",
    "plot = sns.countplot(data = data, x = 'region', hue = 'in-store')\n",
    "plot.set_xticklabels(['North','South','East','West'])\n",
    "plot.legend(['Online','In store'])\n",
    "plot.set_xlabel('Region')\n",
    "plot.set_ylabel('# Transactions')\n",
    "plot.set_title('Number of transactions online and in-store by region')\n",
    "plot.plot()"
   ]
  },
  {
   "cell_type": "markdown",
   "id": "55dc5a68",
   "metadata": {},
   "source": [
    "<i>Figure 8. Bar plot showing the number of transactions online and in physical stores in each region.</i>"
   ]
  },
  {
   "cell_type": "markdown",
   "id": "e4c0a20e",
   "metadata": {},
   "source": [
    "It is noticeable that the North region has no online transactions while the South has no transactions in physical stores. A possible explanation could be the South region having no stores and the online store being unavailable in the North. Opening this possibilities for these regions could be a way of increasing the profits generated there."
   ]
  },
  {
   "cell_type": "markdown",
   "id": "90fb596c",
   "metadata": {},
   "source": [
    "### Item quantity analysis"
   ]
  },
  {
   "cell_type": "markdown",
   "id": "de48b876",
   "metadata": {},
   "source": [
    "To answer the question about the possible relation between the number of items and the amount spent, an initial assumption will be done and the analysis will be centerend about confirming or disproving it. In this case, assuming that there exists some relationship between the number of items and the amount spent in an order makes sense, since one could think that buying more products would mean spending more money.<br>\n",
    "Initially, the distribution of the amount spent is checked:"
   ]
  },
  {
   "cell_type": "code",
   "execution_count": 17,
   "id": "39ccf8f8",
   "metadata": {},
   "outputs": [
    {
     "data": {
      "text/plain": [
       "Text(-2.700000000000003, 0.5, '# Transactions')"
      ]
     },
     "execution_count": 17,
     "metadata": {},
     "output_type": "execute_result"
    },
    {
     "data": {
      "image/png": "[encoded data removed]",
      "text/plain": [
       "<Figure size 360x360 with 1 Axes>"
      ]
     },
     "metadata": {
      "needs_background": "light"
     },
     "output_type": "display_data"
    }
   ],
   "source": [
    "#Plot histogram of amount spent\n",
    "plot = sns.displot(x='amount',data=data,binwidth = 50)\n",
    "plot.axes[0][0].set_title('Histogram of amount spent per transaction')\n",
    "plot.axes[0][0].set_xlabel('Amount spent')\n",
    "plot.axes[0][0].set_ylabel('# Transactions')"
   ]
  },
  {
   "cell_type": "markdown",
   "id": "91b41c41",
   "metadata": {},
   "source": [
    "<i>Figure 9. Histogram showing the distribution of the amount spent in each transaction.</i>"
   ]
  },
  {
   "cell_type": "markdown",
   "id": "3066a3d2",
   "metadata": {},
   "source": [
    "The frequency of the transaction decreases as the amount spent decreases. Some amount blocks can be appreciated and could be used in further analysis."
   ]
  },
  {
   "cell_type": "markdown",
   "id": "0bf409d0",
   "metadata": {},
   "source": [
    "Now, if the initial assumption of a relationship between the number of items and the amount spent is true, then it could be expected that the number of bought items would follow a similar distribution."
   ]
  },
  {
   "cell_type": "code",
   "execution_count": 18,
   "id": "6c5786d8",
   "metadata": {
    "scrolled": false
   },
   "outputs": [
    {
     "data": {
      "text/plain": [
       "Text(-9.075000000000003, 0.5, '# Transactions')"
      ]
     },
     "execution_count": 18,
     "metadata": {},
     "output_type": "execute_result"
    },
    {
     "data": {
      "image/png": "[encoded data removed]",
      "text/plain": [
       "<Figure size 360x360 with 1 Axes>"
      ]
     },
     "metadata": {
      "needs_background": "light"
     },
     "output_type": "display_data"
    }
   ],
   "source": [
    "#Plot histogram of number of items per transaction\n",
    "plot = sns.displot(x='items',data=data)\n",
    "plot.axes[0][0].set_title('Number of items per transaction')\n",
    "plot.axes[0][0].set_xlabel('# Items')\n",
    "plot.axes[0][0].set_ylabel('# Transactions')"
   ]
  },
  {
   "cell_type": "markdown",
   "id": "26a66ed3",
   "metadata": {},
   "source": [
    "<i>Figure 10. Histogram showing the distribution of the number of items in each transaction.</i>"
   ]
  },
  {
   "cell_type": "markdown",
   "id": "e9319a7a",
   "metadata": {},
   "source": [
    "However, the distribution of the number of bought items is a lot different to that of the spent amount, which casts doubts on the initial hypothesis. To definitely confirm it, the distribution of the amount spent for each number of items can be analysed."
   ]
  },
  {
   "cell_type": "code",
   "execution_count": 19,
   "id": "57427ce9",
   "metadata": {
    "scrolled": true
   },
   "outputs": [
    {
     "data": {
      "text/plain": [
       "Text(0, 0.5, 'Amount spent')"
      ]
     },
     "execution_count": 19,
     "metadata": {},
     "output_type": "execute_result"
    },
    {
     "data": {
      "image/png": "[encoded data removed]",
      "text/plain": [
       "<Figure size 432x288 with 1 Axes>"
      ]
     },
     "metadata": {
      "needs_background": "light"
     },
     "output_type": "display_data"
    }
   ],
   "source": [
    "#Plot violin plots of amount spent for each number of items\n",
    "plot = sns.violinplot(x=\"items\", y=\"amount\",kind = 'violin',data=data,size = (10,6))\n",
    "plot.set_title('Distribution of amount spent for each number of items')\n",
    "plot.set_xlabel('# Items')\n",
    "plot.set_ylabel('Amount spent')"
   ]
  },
  {
   "cell_type": "markdown",
   "id": "db754d07",
   "metadata": {},
   "source": [
    "<i>Figure 11. Violin plot showing the distribution of the amount spent in each transaction for each number of items.</i>"
   ]
  },
  {
   "cell_type": "markdown",
   "id": "e76b6aa9",
   "metadata": {},
   "source": [
    "In the above graphs it can be seen that for any number of items the amount spent follows almost the exact same distribution, so it can be safely concluded that there is no relationship between the number of items and the amount spent per transaction. To check it mathematically, the Pearson correlation coefficient can be calculated."
   ]
  },
  {
   "cell_type": "code",
   "execution_count": 20,
   "id": "0a271583",
   "metadata": {
    "scrolled": true
   },
   "outputs": [
    {
     "name": "stdout",
     "output_type": "stream",
     "text": [
      "The correlation between the number of items and the amount spent is  0.0003670028707839606\n"
     ]
    }
   ],
   "source": [
    "#Calculate correlation coefficient\n",
    "print(\"The correlation between the number of items and the amount spent is \",data.corr()['items']['amount'])"
   ]
  },
  {
   "cell_type": "markdown",
   "id": "5fe8b2d1",
   "metadata": {},
   "source": [
    "The correlation is almost 0, which fits with the conclussion of the two magnitudes not being related."
   ]
  },
  {
   "cell_type": "markdown",
   "id": "cfbd1a7f",
   "metadata": {},
   "source": [
    "A possible explanation for this behaviour could be that orders with higher number of items include products of smaller price."
   ]
  },
  {
   "cell_type": "code",
   "execution_count": 21,
   "id": "6d449d83",
   "metadata": {
    "scrolled": true
   },
   "outputs": [
    {
     "data": {
      "text/html": [
       "<div>\n",
       "<style scoped>\n",
       "    .dataframe tbody tr th:only-of-type {\n",
       "        vertical-align: middle;\n",
       "    }\n",
       "\n",
       "    .dataframe tbody tr th {\n",
       "        vertical-align: top;\n",
       "    }\n",
       "\n",
       "    .dataframe thead th {\n",
       "        text-align: right;\n",
       "    }\n",
       "</style>\n",
       "<table border=\"1\" class=\"dataframe\">\n",
       "  <thead>\n",
       "    <tr style=\"text-align: right;\">\n",
       "      <th></th>\n",
       "      <th>in-store</th>\n",
       "      <th>age</th>\n",
       "      <th>items</th>\n",
       "      <th>amount</th>\n",
       "      <th>region</th>\n",
       "      <th>average</th>\n",
       "    </tr>\n",
       "  </thead>\n",
       "  <tbody>\n",
       "    <tr>\n",
       "      <th>0</th>\n",
       "      <td>0</td>\n",
       "      <td>37</td>\n",
       "      <td>4</td>\n",
       "      <td>281.03</td>\n",
       "      <td>2</td>\n",
       "      <td>70.257500</td>\n",
       "    </tr>\n",
       "    <tr>\n",
       "      <th>1</th>\n",
       "      <td>0</td>\n",
       "      <td>35</td>\n",
       "      <td>2</td>\n",
       "      <td>219.51</td>\n",
       "      <td>2</td>\n",
       "      <td>109.755000</td>\n",
       "    </tr>\n",
       "    <tr>\n",
       "      <th>2</th>\n",
       "      <td>1</td>\n",
       "      <td>45</td>\n",
       "      <td>3</td>\n",
       "      <td>1525.70</td>\n",
       "      <td>4</td>\n",
       "      <td>508.566667</td>\n",
       "    </tr>\n",
       "    <tr>\n",
       "      <th>3</th>\n",
       "      <td>1</td>\n",
       "      <td>46</td>\n",
       "      <td>3</td>\n",
       "      <td>715.25</td>\n",
       "      <td>3</td>\n",
       "      <td>238.416667</td>\n",
       "    </tr>\n",
       "    <tr>\n",
       "      <th>4</th>\n",
       "      <td>1</td>\n",
       "      <td>33</td>\n",
       "      <td>4</td>\n",
       "      <td>1937.50</td>\n",
       "      <td>1</td>\n",
       "      <td>484.375000</td>\n",
       "    </tr>\n",
       "  </tbody>\n",
       "</table>\n",
       "</div>"
      ],
      "text/plain": [
       "   in-store  age  items   amount  region     average\n",
       "0         0   37      4   281.03       2   70.257500\n",
       "1         0   35      2   219.51       2  109.755000\n",
       "2         1   45      3  1525.70       4  508.566667\n",
       "3         1   46      3   715.25       3  238.416667\n",
       "4         1   33      4  1937.50       1  484.375000"
      ]
     },
     "execution_count": 21,
     "metadata": {},
     "output_type": "execute_result"
    }
   ],
   "source": [
    "#Add average price per item to the dataset\n",
    "avg_per_item=data['amount']/data['items']\n",
    "avg_per_item = avg_per_item.rename(\"average\")\n",
    "data = data.join(avg_per_item)\n",
    "data.head()"
   ]
  },
  {
   "cell_type": "code",
   "execution_count": 22,
   "id": "79501283",
   "metadata": {
    "scrolled": false
   },
   "outputs": [
    {
     "data": {
      "text/plain": [
       "Text(0, 0.5, 'Average price of items')"
      ]
     },
     "execution_count": 22,
     "metadata": {},
     "output_type": "execute_result"
    },
    {
     "data": {
      "image/png": "[encoded data removed]",
      "text/plain": [
       "<Figure size 720x432 with 1 Axes>"
      ]
     },
     "metadata": {
      "needs_background": "light"
     },
     "output_type": "display_data"
    }
   ],
   "source": [
    "#Plot violin plot of average price per item for each number of items \n",
    "fig , axes = plt.subplots(1,1,figsize = (10,6), sharex=True)\n",
    "sns.violinplot(x=\"items\", y=\"average\",kind = 'violin',data=data,ax = axes)\n",
    "axes.set_title(\"Distribution of average price of items for each number of items\")\n",
    "axes.set_xlabel('# Items')\n",
    "axes.set_ylabel('Average price of items')"
   ]
  },
  {
   "cell_type": "markdown",
   "id": "e7c7e15e",
   "metadata": {},
   "source": [
    "<i>Figure 12. Violin plot showing the distribution of the average price of items for each number of items.</i>"
   ]
  },
  {
   "cell_type": "markdown",
   "id": "b371b1d6",
   "metadata": {},
   "source": [
    "The graphic shows that indeed, orders with a higher number of items have amounts more concentrated around low prices while orders with less items have more variated values. This could be explained with the fact that electronic stores sell a big range of products, from high priced devices to cheaper products like accesories. Orders with many items could come from accesories sales while transactions with fewer products would refer to orders of products of higher value."
   ]
  },
  {
   "cell_type": "markdown",
   "id": "9fd25b34",
   "metadata": {},
   "source": [
    "<b>Is there a relationship between the number of items purchased and amount spent?</b><br>\n",
    "No, there is no relationship between the number of items and the amount spent per transaction and for any number of items, the amount spent follows similar distributions. This is highly likely due to orders with more items being of products of less value."
   ]
  },
  {
   "cell_type": "markdown",
   "id": "5c4eedbd",
   "metadata": {},
   "source": [
    "## Additional analysis and insights"
   ]
  },
  {
   "cell_type": "markdown",
   "id": "d41e9dbd",
   "metadata": {},
   "source": [
    "<b>Decimal places</b><br>\n",
    "As explained in the pre-processing, there exist some values of the amount spent in each order that are stored with more than two decimal places. In general, all values have been check to have 5 significant digits, which probably comes from the software used to gather the data. As mentioned previously, a possible cause for the abnormal decimals could be that the values are stored before applying VAT."
   ]
  },
  {
   "cell_type": "markdown",
   "id": "f384b6f4",
   "metadata": {},
   "source": [
    "<b>Age</b><br>\n",
    "The questions asked by Ms Sherman did not include an analysis of the impact of the age of the clients, which could provide important data."
   ]
  },
  {
   "cell_type": "markdown",
   "id": "db59cfac",
   "metadata": {},
   "source": [
    "First, an study of the distribution of the age in each region will be performed:"
   ]
  },
  {
   "cell_type": "code",
   "execution_count": 23,
   "id": "28c2fe25",
   "metadata": {},
   "outputs": [
    {
     "data": {
      "text/plain": [
       "Text(0, 0.5, '# Transactions')"
      ]
     },
     "execution_count": 23,
     "metadata": {},
     "output_type": "execute_result"
    },
    {
     "data": {
      "image/png": "[encoded data removed]",
      "text/plain": [
       "<Figure size 1440x576 with 4 Axes>"
      ]
     },
     "metadata": {
      "needs_background": "light"
     },
     "output_type": "display_data"
    }
   ],
   "source": [
    "#Plot histograms of customers' age at each region\n",
    "fig , axes = plt.subplots(2,2,figsize = (20,8), sharex=True)\n",
    "sns.histplot(x=\"age\",data=data.groupby('region').get_group(1),ax=axes[0][0],binwidth = 7)\n",
    "axes[0][0].title.set_text(\"Customer age distribution in North region\")\n",
    "axes[0][0].set_xlabel('Age')\n",
    "axes[0][0].set_ylabel('# Transactions')\n",
    "sns.histplot(x=\"age\",data=data.groupby('region').get_group(2),ax=axes[0][1],binwidth = 7, color = 'y')\n",
    "axes[0][1].title.set_text(\"Customer age dsitribution in South region\")\n",
    "axes[0][1].set_xlabel('Age')\n",
    "axes[0][1].set_ylabel('# Transactions')\n",
    "sns.histplot(x=\"age\",data=data.groupby('region').get_group(3),ax=axes[1][0],binwidth = 7, color = 'g')\n",
    "axes[1][0].title.set_text(\"Customer age distribution in East region\")\n",
    "axes[1][0].set_xlabel('Age')\n",
    "axes[1][0].set_ylabel('# Transactions')\n",
    "sns.histplot(x=\"age\",data=data.groupby('region').get_group(4),ax=axes[1][1],binwidth = 7, color = 'r')\n",
    "axes[1][1].title.set_text(\"Customer age distribution in West region\")\n",
    "axes[1][1].set_xlabel('Age')\n",
    "axes[1][1].set_ylabel('# Transactions')"
   ]
  },
  {
   "cell_type": "markdown",
   "id": "81e12fe5",
   "metadata": {},
   "source": [
    "<i>Figures 13-16. Histogram showing the distrubution of the customers' age in each region.</i>"
   ]
  },
  {
   "cell_type": "markdown",
   "id": "283de104",
   "metadata": {},
   "source": [
    "There are some clear differences in the age demography between regions:\n",
    "<ul>\n",
    "    <li>In general, the number of customers between 18 and 25 years is sensibly smaller than the quantity of middle-aged clients in all regions except for the West. This is specially noticeable in the South which have no clients of this age range at all.</li>\n",
    "    <li>The core of the clients is middle-aged, which is common in most businesses.</li>\n",
    "    <li>In older age ranges, the North and the West start losing clients around the 53 years, while the East maintains the same quantity until the 60 years. The South is the only region with as many older clients as middle-aged ones, even having a small number of clients older than 84.</li>\n",
    "</ul>"
   ]
  },
  {
   "cell_type": "markdown",
   "id": "42585a8f",
   "metadata": {},
   "source": [
    "After that, the method of purchase is studied for different age ranges:"
   ]
  },
  {
   "cell_type": "code",
   "execution_count": 24,
   "id": "b4b79739",
   "metadata": {},
   "outputs": [],
   "source": [
    "#Create age group entry\n",
    "less_37 = (data['age']<=37).apply(int)\n",
    "btw_38_52 = ((data['age']>37) & (data['age']<=52)).apply(int)*2\n",
    "more_52 = (data['age'] > 52).apply(int)*3\n",
    "age_range = less_37 + btw_38_52 + more_52\n",
    "data = data.join(age_range.rename('age group'))"
   ]
  },
  {
   "cell_type": "code",
   "execution_count": 25,
   "id": "8e1b7249",
   "metadata": {},
   "outputs": [
    {
     "data": {
      "text/plain": [
       "Text(0.5, 1.0, 'Number of transaction in-store and on-line by age group')"
      ]
     },
     "execution_count": 25,
     "metadata": {},
     "output_type": "execute_result"
    },
    {
     "data": {
      "image/png": "[encoded data removed]",
      "text/plain": [
       "<Figure size 432x288 with 1 Axes>"
      ]
     },
     "metadata": {
      "needs_background": "light"
     },
     "output_type": "display_data"
    }
   ],
   "source": [
    "#Plot number of transactions online and in-store for each age group\n",
    "plot = sns.countplot(data=data,x='age group', hue = 'in-store')\n",
    "plot.set_xticklabels(['18-37','38-52','>52'])\n",
    "plot.set_xlabel('Age group')\n",
    "plot.set_ylabel('# Transactions')\n",
    "plot.legend(['Online','In store'])\n",
    "plot.set_title('Number of transaction in-store and on-line by age group')"
   ]
  },
  {
   "cell_type": "markdown",
   "id": "89a242a7",
   "metadata": {},
   "source": [
    "<i>Figure 17. Bar plot showing the amount of transactions online and in physical stores by age group.</i>"
   ]
  },
  {
   "cell_type": "markdown",
   "id": "50e83287",
   "metadata": {},
   "source": [
    "As the age of the customers increases, the online purchases increase while the sales in stores go down. This results fit with previous observations, shuch as the South region, which has the biggest number of older consumers only having online transactions."
   ]
  },
  {
   "cell_type": "code",
   "execution_count": 26,
   "id": "af423188",
   "metadata": {
    "scrolled": true
   },
   "outputs": [
    {
     "data": {
      "text/plain": [
       "Text(0.5, 1.0, 'Histogram of amount spent by customers of more than 52 years')"
      ]
     },
     "execution_count": 26,
     "metadata": {},
     "output_type": "execute_result"
    },
    {
     "data": {
      "image/png": "[encoded data removed]",
      "text/plain": [
       "<Figure size 1440x432 with 3 Axes>"
      ]
     },
     "metadata": {
      "needs_background": "light"
     },
     "output_type": "display_data"
    }
   ],
   "source": [
    "#Plot histograms of amount spent at each age group\n",
    "plot, axes = plt.subplots(1,3,sharex = True,figsize = (20,6))\n",
    "sns.histplot(data=data.groupby('age group').get_group(1), x = 'amount',binwidth = 50, ax = axes[0])\n",
    "axes[0].set_xlabel('Amount spent')\n",
    "axes[0].set_ylabel('# Transactions')\n",
    "axes[0].set_title('Histogram of amount spent by customers of 18-37 years')\n",
    "sns.histplot(data=data.groupby('age group').get_group(2), x = 'amount',binwidth = 50, ax = axes[1])\n",
    "axes[1].set_xlabel('Amount spent')\n",
    "axes[1].set_ylabel('# Transactions')\n",
    "axes[1].set_title('Histogram of amount spent by customers of 38-52 years')\n",
    "sns.histplot(data=data.groupby('age group').get_group(3), x = 'amount',binwidth = 50, ax = axes[2])\n",
    "axes[2].set_xlabel('Amount spent')\n",
    "axes[2].set_ylabel('# Transactions')\n",
    "axes[2].set_title('Histogram of amount spent by customers of more than 52 years')"
   ]
  },
  {
   "cell_type": "markdown",
   "id": "6e13c9a7",
   "metadata": {},
   "source": [
    "<i>Figures 18-20. Histograms showing the distribution of the amount spent by each age group.</i>"
   ]
  },
  {
   "cell_type": "markdown",
   "id": "1b4a3ac6",
   "metadata": {},
   "source": [
    "It is noticeable in the above graphics that the oldest age group has a lower amount of transactions in the middle-priced amounts, concretely in the range 500-2000. This is even more remarkable if the plots are compared with figure 8, which shows the distribution of the amount per transaction of the whole data set. The first two groups are distributed similarly to the sample as a whole while the oldest group has less transaction of intermediate prices."
   ]
  },
  {
   "cell_type": "markdown",
   "id": "c9b28ec7",
   "metadata": {},
   "source": [
    "## Conclusions"
   ]
  },
  {
   "cell_type": "markdown",
   "id": "5fe90195",
   "metadata": {},
   "source": [
    "After the analysis performed, the insights obtained about the data set can be summarized in the following points:\n",
    "<ul>\n",
    "    <li><b>Do customers in different regions spend more per transaction?</b></li>\n",
    "    Yes, customers in the West region tend to spend the most followed by the East and the North, with South being the region expending the least. The main difference between the West and the rest of the regions is a high number of purchases in a price range of 1000 to 2000, with the rest of the regions having a fewer transactions or none in that range. Increasing the sales of amounts in these range of prices in other regions could be a way of improving the profits there. The South is the least spender by far due to its purchases being concentrated only in a cheap range.\n",
    "    <li><b>Which regions spend the most/least?</b></li>\n",
    "    Again, the West is the biggest spender by a wide difference, followed by the East and the North, with the South being at the tail. This behaviour can be explained by the same causes as the previous question.\n",
    "    <li><b>Additional insights regarding the regional distribution</b></li>\n",
    "        There are noticeable differences in the way the purchases are done in each region. The most remarkable one is the South region only having online purchases and the clients from the North only buying in physical stores. These behaviours could be explained with South region not having physical stores and the online services being unavailable in the North. Giving access to these services in the corresponding regions could increase the profits obtained from them.\n",
    "    <li><b>Is there a relationship between number of items purchased and amount spent?</b></li>\n",
    "    No, there is no relation between the number of items purchased and the amount spent. For any number of items purchased, the amount spent in the transaction is equally distributed. This comes from the fact that transactions with higher number of items tend to contain products of lower value. A possible explanation for this behaviour could come from the fact that electronic stores sell a big range of products, from high priced devices to cheaper products like accesories and orders with many items could come from accesories sales while transactions with fewer products would refer to orders of products of higher value.\n",
    "    <li><b>Additional insights regarding the age of customers</b></li>\n",
    "    The main group of customers is between 25 and 55 years old, which is common in most businesses as this is the range of population that consumes the most. However, there exist differences in the distribution of the customers' age between regions.<br>\n",
    "    The West has the highest amount of young customers (18-25 years old), while other regions having less customers of that ages and the South region having none at all. Regarding older customers, the North and the West start losing customers around the 53 years, while the East maintains the same quantity until the 60 years. The South is the only region with as many older clients as middle-aged ones, even having a small number of clients older than 84. <br>\n",
    "    About the method of purchasing, younger age groups tend to buy more in physical stores while older groups prefer online purchases. This fits with other observations, like the South region having only online purchases and the highest number of old clients.<br>\n",
    "    Regarding the spending habits of each age group, the only group with a different behaviour are the customers older than 52, who did sensibly less orders of the amount range of 500 to 2000. Fomenting purchases of that amount range to that age group could increase the profit they generate.\n",
    "</ul>"
   ]
  },
  {
   "cell_type": "code",
   "execution_count": null,
   "id": "6bc28e68",
   "metadata": {},
   "outputs": [],
   "source": []
  }
 ],
 "metadata": {
  "kernelspec": {
   "display_name": "Python 3",
   "language": "python",
   "name": "python3"
  },
  "language_info": {
   "codemirror_mode": {
    "name": "ipython",
    "version": 3
   },
   "file_extension": ".py",
   "mimetype": "text/x-python",
   "name": "python",
   "nbconvert_exporter": "python",
   "pygments_lexer": "ipython3",
   "version": "3.9.5"
  }
 },
 "nbformat": 4,
 "nbformat_minor": 5
}
